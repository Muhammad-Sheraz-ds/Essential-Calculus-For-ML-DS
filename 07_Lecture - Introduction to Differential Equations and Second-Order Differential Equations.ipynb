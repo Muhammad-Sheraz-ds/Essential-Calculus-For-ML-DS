{
 "cells": [
  {
   "cell_type": "markdown",
   "id": "685b6f3f",
   "metadata": {},
   "source": [
    "\n",
    "# 07_Lecture - Introduction to Differential Equations and Second-Order Differential Equations\n",
    "\n",
    "## Learning Agenda of this Notebook\n",
    "\n",
    "\n",
    "\n",
    "- **7.1: Introduction to Differential Equations**\n",
    "    - Introduction to Differential Equations\n",
    "    - Basics of Differentail Equations\n",
    "    - Direction Fields and Numerical Methods\n",
    "    - Separable Equations \n",
    "    - The Logistic Equation\n",
    "    - First-Order Linear Equation\n",
    "    \n",
    "    \n",
    "- **7.2: Second-order Diffenertail Equations**\n",
    "    - Introduction to Second-Order Diffenertial Equations\n",
    "    - Second-Order Linear Equations\n",
    "    - Non-Homogeneous Linear Equations\n",
    "    - Applications of second-order Differntial Equations\n",
    "    - Series Solutions of Differential Equations"
   ]
  },
  {
   "cell_type": "code",
   "execution_count": null,
   "id": "60ac8b80",
   "metadata": {},
   "outputs": [],
   "source": []
  },
  {
   "cell_type": "code",
   "execution_count": null,
   "id": "ee8eac52",
   "metadata": {},
   "outputs": [],
   "source": []
  },
  {
   "cell_type": "code",
   "execution_count": 2,
   "id": "83bfed4b",
   "metadata": {},
   "outputs": [
    {
     "name": "stdout",
     "output_type": "stream",
     "text": [
      "                                -t   sin(t)   2⋅cos(t)\n",
      "y(t) = (C₁⋅sin(t) + C₂⋅cos(t))⋅ℯ   + ────── - ────────\n",
      "                                       5         5    \n"
     ]
    }
   ],
   "source": [
    "import sympy as sp\n",
    "import pprint\n",
    "\n",
    "# Define the variables\n",
    "t = sp.Symbol('t')\n",
    "y = sp.Function('y')(t)\n",
    "\n",
    "# Define the differential equation\n",
    "diff_eq = sp.Eq(y.diff(t, t) + 2*y.diff(t) + 2*y, sp.sin(t))\n",
    "\n",
    "# Solve the differential equation\n",
    "soln = sp.dsolve(diff_eq)\n",
    "\n",
    "# Display the solution\n",
    "sp.pprint(soln)\n"
   ]
  },
  {
   "cell_type": "code",
   "execution_count": null,
   "id": "6474b305",
   "metadata": {},
   "outputs": [],
   "source": []
  },
  {
   "cell_type": "code",
   "execution_count": null,
   "id": "3741437c",
   "metadata": {},
   "outputs": [],
   "source": []
  },
  {
   "cell_type": "code",
   "execution_count": null,
   "id": "a5acde06",
   "metadata": {},
   "outputs": [],
   "source": []
  },
  {
   "cell_type": "code",
   "execution_count": null,
   "id": "cac25219",
   "metadata": {},
   "outputs": [],
   "source": []
  },
  {
   "cell_type": "code",
   "execution_count": 6,
   "id": "5c19fdf6",
   "metadata": {},
   "outputs": [
    {
     "name": "stdout",
     "output_type": "stream",
     "text": [
      "Eq(Derivative(f(x), x), x**2)\n"
     ]
    }
   ],
   "source": [
    "from sympy import Function, symbols, Eq, Derivative\n",
    "\n",
    "# Define the function and independent variable\n",
    "f = Function('f')\n",
    "x = symbols('x')\n",
    "\n",
    "# Define the differential equation\n",
    "eq = Eq(Derivative(f(x), x), x**2)\n",
    "\n",
    "# Print the differential equation\n",
    "pprint.pprint(eq)\n"
   ]
  },
  {
   "cell_type": "code",
   "execution_count": null,
   "id": "95a1ac94",
   "metadata": {},
   "outputs": [],
   "source": []
  },
  {
   "cell_type": "code",
   "execution_count": null,
   "id": "a9176f45",
   "metadata": {},
   "outputs": [],
   "source": []
  },
  {
   "cell_type": "code",
   "execution_count": 8,
   "id": "12d5f930",
   "metadata": {},
   "outputs": [
    {
     "name": "stdout",
     "output_type": "stream",
     "text": [
      "Eq(f(x), C1 + x**3/3)\n"
     ]
    }
   ],
   "source": [
    "from sympy import dsolve\n",
    "\n",
    "# Solve the differential equation\n",
    "sol = dsolve(eq)\n",
    "\n",
    "# Print the solution\n",
    "pprint.pprint(sol)\n"
   ]
  },
  {
   "cell_type": "code",
   "execution_count": null,
   "id": "214a87c1",
   "metadata": {},
   "outputs": [],
   "source": []
  },
  {
   "cell_type": "code",
   "execution_count": null,
   "id": "b3ad3f20",
   "metadata": {},
   "outputs": [],
   "source": []
  },
  {
   "cell_type": "code",
   "execution_count": null,
   "id": "24bfce4b",
   "metadata": {},
   "outputs": [],
   "source": []
  },
  {
   "cell_type": "code",
   "execution_count": 9,
   "id": "ced93ead",
   "metadata": {},
   "outputs": [
    {
     "name": "stdout",
     "output_type": "stream",
     "text": [
      "Eq(f(x), C1 + x**3/3)\n"
     ]
    }
   ],
   "source": [
    "from sympy import solve\n",
    "\n",
    "# Define the initial condition\n",
    "ics = {f(0): 1}\n",
    "\n",
    "# Solve for the constant\n",
    "C1 = solve(sol.rhs.subs(x, 0) - ics[f(0)])[0]\n",
    "\n",
    "# Substitute the constant back into the solution\n",
    "sol = sol.subs(C1, C1)\n",
    "\n",
    "# Print the solution with the constant substituted\n",
    "print(sol)\n"
   ]
  },
  {
   "cell_type": "code",
   "execution_count": null,
   "id": "468e4523",
   "metadata": {},
   "outputs": [],
   "source": []
  },
  {
   "cell_type": "code",
   "execution_count": null,
   "id": "83938579",
   "metadata": {},
   "outputs": [],
   "source": []
  },
  {
   "cell_type": "code",
   "execution_count": null,
   "id": "41a25bd5",
   "metadata": {},
   "outputs": [],
   "source": []
  },
  {
   "cell_type": "code",
   "execution_count": 10,
   "id": "b512c753",
   "metadata": {},
   "outputs": [
    {
     "name": "stdout",
     "output_type": "stream",
     "text": [
      "General solution:  Eq(y(x), C1 + x**2/2)\n",
      "Particular solution:  x**2/2 + 1\n"
     ]
    }
   ],
   "source": [
    "import sympy as sp\n",
    "\n",
    "x = sp.symbols('x')\n",
    "y = sp.Function('y')(x)\n",
    "\n",
    "# define the differential equation\n",
    "eq = sp.Eq(sp.diff(y, x), x)\n",
    "\n",
    "# solve the differential equation\n",
    "sol = sp.dsolve(eq)\n",
    "\n",
    "# print the general solution\n",
    "print(\"General solution: \", sol)\n",
    "\n",
    "# solve an initial value problem\n",
    "ivp_sol = sp.dsolve(eq, ics={y.subs(x, 0): 1})\n",
    "\n",
    "# print the particular solution\n",
    "print(\"Particular solution: \", ivp_sol.rhs)\n"
   ]
  },
  {
   "cell_type": "code",
   "execution_count": null,
   "id": "caeeab76",
   "metadata": {},
   "outputs": [],
   "source": []
  },
  {
   "cell_type": "code",
   "execution_count": null,
   "id": "e0a3461e",
   "metadata": {},
   "outputs": [],
   "source": []
  },
  {
   "cell_type": "code",
   "execution_count": null,
   "id": "29049a0a",
   "metadata": {},
   "outputs": [],
   "source": []
  },
  {
   "cell_type": "code",
   "execution_count": null,
   "id": "a5035d25",
   "metadata": {},
   "outputs": [],
   "source": []
  },
  {
   "cell_type": "code",
   "execution_count": null,
   "id": "3ac1f15b",
   "metadata": {},
   "outputs": [],
   "source": []
  },
  {
   "cell_type": "code",
   "execution_count": null,
   "id": "eb9672e4",
   "metadata": {},
   "outputs": [],
   "source": []
  },
  {
   "cell_type": "code",
   "execution_count": null,
   "id": "504d257d",
   "metadata": {},
   "outputs": [],
   "source": []
  }
 ],
 "metadata": {
  "kernelspec": {
   "display_name": "Python 3 (ipykernel)",
   "language": "python",
   "name": "python3"
  },
  "language_info": {
   "codemirror_mode": {
    "name": "ipython",
    "version": 3
   },
   "file_extension": ".py",
   "mimetype": "text/x-python",
   "name": "python",
   "nbconvert_exporter": "python",
   "pygments_lexer": "ipython3",
   "version": "3.8.10"
  }
 },
 "nbformat": 4,
 "nbformat_minor": 5
}
